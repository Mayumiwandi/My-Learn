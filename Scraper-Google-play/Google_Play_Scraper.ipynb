{
  "nbformat": 4,
  "nbformat_minor": 0,
  "metadata": {
    "colab": {
      "provenance": []
    },
    "kernelspec": {
      "name": "python3",
      "display_name": "Python 3"
    },
    "language_info": {
      "name": "python"
    }
  },
  "cells": [
    {
      "cell_type": "markdown",
      "source": [
        "## Google-Play-Scraper"
      ],
      "metadata": {
        "id": "hlP6erBh94PI"
      }
    },
    {
      "cell_type": "markdown",
      "source": [
        "### Install Library scraper"
      ],
      "metadata": {
        "id": "E721E_1A-Boy"
      }
    },
    {
      "cell_type": "code",
      "source": [
        "!pip install google-play-scraper"
      ],
      "metadata": {
        "colab": {
          "base_uri": "https://localhost:8080/"
        },
        "id": "VkvRWmzZylSd",
        "outputId": "fc885554-dc5d-48cc-89fb-56ba879fdf7c"
      },
      "execution_count": 1,
      "outputs": [
        {
          "output_type": "stream",
          "name": "stdout",
          "text": [
            "Collecting google-play-scraper\n",
            "  Downloading google_play_scraper-1.2.6-py3-none-any.whl (28 kB)\n",
            "Installing collected packages: google-play-scraper\n",
            "Successfully installed google-play-scraper-1.2.6\n"
          ]
        }
      ]
    },
    {
      "cell_type": "markdown",
      "source": [
        "### Import Library yang dibutuhkan"
      ],
      "metadata": {
        "id": "7mX05Whd-LnK"
      }
    },
    {
      "cell_type": "code",
      "source": [
        "from google_play_scraper import Sort, reviews\n",
        "import pandas as pd\n",
        "from datetime import datetime\n",
        "from tqdm import tqdm\n",
        "import time\n",
        "from google.colab import drive\n",
        "drive.mount('/content/gdrive/')"
      ],
      "metadata": {
        "colab": {
          "base_uri": "https://localhost:8080/"
        },
        "id": "XFTVJQq44sK-",
        "outputId": "7e412235-9b63-4b14-d7eb-5d87d419a879"
      },
      "execution_count": 12,
      "outputs": [
        {
          "output_type": "stream",
          "name": "stdout",
          "text": [
            "Mounted at /content/gdrive/\n"
          ]
        }
      ]
    },
    {
      "cell_type": "code",
      "source": [
        "app_id = 'com.kakaogames.gdts' # menyimpan ID aplikasi Google Play Store yang akan diambil ulasannya.\n",
        "\n",
        "\n",
        "\n",
        "# Fetch reviews\n",
        "result = []  # digunakan untuk menyimpan semua ulasan yang telah diambil dari Google Play Store.\n",
        "continuation_token = continuation_token  # digunakan untuk melanjutkan permintaan ulasan ke halaman berikutnya.  defaults None\n",
        "reviews_count = 25000  #  jumlah maksimal ulasan yang ingin diambil. type int.\n",
        "\n",
        "with tqdm(total=reviews_count, position=0, leave=True) as pbar:\n",
        "    while len(result) < reviews_count:\n",
        "        new_result, continuation_token = reviews(\n",
        "            app_id,\n",
        "            continuation_token=None,\n",
        "            lang='id',\n",
        "            country='us',\n",
        "            sort=Sort.NEWEST,\n",
        "            filter_score_with=None,\n",
        "            count= reviews_count\n",
        "        )\n",
        "        if not new_result:\n",
        "            break\n",
        "        result.extend(new_result)\n",
        "        pbar.update(len(new_result))\n",
        "\n",
        "\n",
        "# membuat dataframe dari hasil review\n",
        "df = pd.DataFrame(result)\n",
        "\n",
        "today = str(datetime.now().strftime(\"%m-%d-%Y_%H%M%S\"))\n",
        "\n",
        "\n",
        "\n",
        "# Metode 1: Pasang Google Drive (jika Anda memiliki akun Google Drive)\n",
        "\n",
        "df.to_csv(f'/content/gdrive/MyDrive/Review-google-play-{app_id}_{today}.csv', index=False)  #  Sesuaikan jalur sesuai kebutuhan\n",
        "print(len(df))\n",
        "\n",
        "# Metode 2: Simpan ke Sistem File Colab Lokal (jika Anda memerlukan CSV secara lokal)\n",
        "# Memerlukan pengaktifan unggahan file di pengaturan Colab\n",
        "# Unggah file CSV ke sistem file Colab dan akses nanti\n",
        "df.to_csv(f'reviews-{app_id}_{today}.csv', index=False)\n",
        "print(len(df))\n"
      ],
      "metadata": {
        "colab": {
          "base_uri": "https://localhost:8080/"
        },
        "id": "lSsrEb2jzPzt",
        "outputId": "8f55df31-7adf-4c9e-b126-ad4550cd54bb"
      },
      "execution_count": 14,
      "outputs": [
        {
          "output_type": "stream",
          "name": "stderr",
          "text": [
            "25273it [00:21, 1188.40it/s]\n"
          ]
        },
        {
          "output_type": "stream",
          "name": "stdout",
          "text": [
            "25273\n",
            "25273\n"
          ]
        }
      ]
    },
    {
      "cell_type": "code",
      "source": [],
      "metadata": {
        "id": "VWjsaT5v4wvK"
      },
      "execution_count": null,
      "outputs": []
    }
  ]
}